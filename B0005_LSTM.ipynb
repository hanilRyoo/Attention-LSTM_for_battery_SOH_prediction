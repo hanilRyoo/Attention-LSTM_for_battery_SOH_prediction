{
 "cells": [
  {
   "cell_type": "code",
   "execution_count": 1,
   "id": "1ad2ebca",
   "metadata": {},
   "outputs": [
    {
     "data": {
      "text/html": [
       "<div>\n",
       "<style scoped>\n",
       "    .dataframe tbody tr th:only-of-type {\n",
       "        vertical-align: middle;\n",
       "    }\n",
       "\n",
       "    .dataframe tbody tr th {\n",
       "        vertical-align: top;\n",
       "    }\n",
       "\n",
       "    .dataframe thead th {\n",
       "        text-align: right;\n",
       "    }\n",
       "</style>\n",
       "<table border=\"1\" class=\"dataframe\">\n",
       "  <thead>\n",
       "    <tr style=\"text-align: right;\">\n",
       "      <th></th>\n",
       "      <th>Cycle</th>\n",
       "      <th>VMT</th>\n",
       "      <th>CMT</th>\n",
       "      <th>TMT</th>\n",
       "      <th>capacity</th>\n",
       "      <th>SOH</th>\n",
       "      <th>IC</th>\n",
       "    </tr>\n",
       "  </thead>\n",
       "  <tbody>\n",
       "    <tr>\n",
       "      <th>0</th>\n",
       "      <td>1</td>\n",
       "      <td>3241.797</td>\n",
       "      <td>3324.484</td>\n",
       "      <td>3447.609</td>\n",
       "      <td>1.856487</td>\n",
       "      <td>92.824371</td>\n",
       "      <td>5.608811</td>\n",
       "    </tr>\n",
       "    <tr>\n",
       "      <th>1</th>\n",
       "      <td>2</td>\n",
       "      <td>3241.797</td>\n",
       "      <td>3324.484</td>\n",
       "      <td>3447.609</td>\n",
       "      <td>1.846327</td>\n",
       "      <td>92.316362</td>\n",
       "      <td>5.608811</td>\n",
       "    </tr>\n",
       "    <tr>\n",
       "      <th>2</th>\n",
       "      <td>3</td>\n",
       "      <td>3238.719</td>\n",
       "      <td>3321.344</td>\n",
       "      <td>3419.156</td>\n",
       "      <td>1.835349</td>\n",
       "      <td>91.767460</td>\n",
       "      <td>5.629508</td>\n",
       "    </tr>\n",
       "    <tr>\n",
       "      <th>3</th>\n",
       "      <td>4</td>\n",
       "      <td>3229.203</td>\n",
       "      <td>3299.828</td>\n",
       "      <td>3421.593</td>\n",
       "      <td>1.835263</td>\n",
       "      <td>91.763126</td>\n",
       "      <td>5.244733</td>\n",
       "    </tr>\n",
       "    <tr>\n",
       "      <th>4</th>\n",
       "      <td>5</td>\n",
       "      <td>3228.218</td>\n",
       "      <td>3298.718</td>\n",
       "      <td>3395.125</td>\n",
       "      <td>1.834646</td>\n",
       "      <td>91.732275</td>\n",
       "      <td>5.391958</td>\n",
       "    </tr>\n",
       "    <tr>\n",
       "      <th>...</th>\n",
       "      <td>...</td>\n",
       "      <td>...</td>\n",
       "      <td>...</td>\n",
       "      <td>...</td>\n",
       "      <td>...</td>\n",
       "      <td>...</td>\n",
       "      <td>...</td>\n",
       "    </tr>\n",
       "    <tr>\n",
       "      <th>163</th>\n",
       "      <td>164</td>\n",
       "      <td>1560.609</td>\n",
       "      <td>1620.328</td>\n",
       "      <td>1937.375</td>\n",
       "      <td>1.293464</td>\n",
       "      <td>64.673181</td>\n",
       "      <td>2.854319</td>\n",
       "    </tr>\n",
       "    <tr>\n",
       "      <th>164</th>\n",
       "      <td>165</td>\n",
       "      <td>1556.907</td>\n",
       "      <td>1611.204</td>\n",
       "      <td>1963.141</td>\n",
       "      <td>1.288003</td>\n",
       "      <td>64.400170</td>\n",
       "      <td>2.843833</td>\n",
       "    </tr>\n",
       "    <tr>\n",
       "      <th>165</th>\n",
       "      <td>166</td>\n",
       "      <td>1544.562</td>\n",
       "      <td>1601.547</td>\n",
       "      <td>1945.328</td>\n",
       "      <td>1.287453</td>\n",
       "      <td>64.372626</td>\n",
       "      <td>2.855158</td>\n",
       "    </tr>\n",
       "    <tr>\n",
       "      <th>166</th>\n",
       "      <td>167</td>\n",
       "      <td>1534.344</td>\n",
       "      <td>1591.234</td>\n",
       "      <td>1916.609</td>\n",
       "      <td>1.309015</td>\n",
       "      <td>65.450768</td>\n",
       "      <td>2.845511</td>\n",
       "    </tr>\n",
       "    <tr>\n",
       "      <th>167</th>\n",
       "      <td>168</td>\n",
       "      <td>1530.078</td>\n",
       "      <td>1584.531</td>\n",
       "      <td>1912.391</td>\n",
       "      <td>1.325079</td>\n",
       "      <td>66.253966</td>\n",
       "      <td>2.748200</td>\n",
       "    </tr>\n",
       "  </tbody>\n",
       "</table>\n",
       "<p>168 rows × 7 columns</p>\n",
       "</div>"
      ],
      "text/plain": [
       "     Cycle       VMT       CMT       TMT  capacity        SOH        IC\n",
       "0        1  3241.797  3324.484  3447.609  1.856487  92.824371  5.608811\n",
       "1        2  3241.797  3324.484  3447.609  1.846327  92.316362  5.608811\n",
       "2        3  3238.719  3321.344  3419.156  1.835349  91.767460  5.629508\n",
       "3        4  3229.203  3299.828  3421.593  1.835263  91.763126  5.244733\n",
       "4        5  3228.218  3298.718  3395.125  1.834646  91.732275  5.391958\n",
       "..     ...       ...       ...       ...       ...        ...       ...\n",
       "163    164  1560.609  1620.328  1937.375  1.293464  64.673181  2.854319\n",
       "164    165  1556.907  1611.204  1963.141  1.288003  64.400170  2.843833\n",
       "165    166  1544.562  1601.547  1945.328  1.287453  64.372626  2.855158\n",
       "166    167  1534.344  1591.234  1916.609  1.309015  65.450768  2.845511\n",
       "167    168  1530.078  1584.531  1912.391  1.325079  66.253966  2.748200\n",
       "\n",
       "[168 rows x 7 columns]"
      ]
     },
     "execution_count": 1,
     "metadata": {},
     "output_type": "execute_result"
    }
   ],
   "source": [
    "import numpy as np\n",
    "import pandas as pd\n",
    "from sklearn.preprocessing import MinMaxScaler\n",
    "import torch\n",
    "import torch.nn as nn\n",
    "import torch.optim as optim \n",
    "import matplotlib.pyplot as plt\n",
    " \n",
    "df = pd.read_csv('C:/Users/Desktop/time feature/B0005_time.csv',encoding= 'CP949') \n",
    "df"
   ]
  },
  {
   "cell_type": "code",
   "execution_count": 2,
   "id": "93d6910d",
   "metadata": {},
   "outputs": [],
   "source": [
    "#타겟 제외 스케일링 \n",
    "scaler = MinMaxScaler()\n",
    "\n",
    "df[['VMT','CMT','TMT','IC']] = scaler.fit_transform(df[['VMT','CMT','TMT','IC']])"
   ]
  },
  {
   "cell_type": "code",
   "execution_count": 3,
   "id": "e16bd916",
   "metadata": {},
   "outputs": [
    {
     "data": {
      "text/plain": [
       "device(type='cuda', index=0)"
      ]
     },
     "execution_count": 3,
     "metadata": {},
     "output_type": "execute_result"
    }
   ],
   "source": [
    "device = torch.device('cuda:0' if torch.cuda.is_available() else 'cpu')\n",
    "device"
   ]
  },
  {
   "cell_type": "code",
   "execution_count": 4,
   "id": "279e3d70",
   "metadata": {},
   "outputs": [],
   "source": [
    "#넘파이 배열로 변경 \n",
    "x = df[['VMT','CMT','TMT','IC']].values\n",
    "y = df['SOH'].values\n",
    " \n",
    "#시퀀스 데이터 생성 \n",
    "def seq_data(x, y, sequence_length):\n",
    "  x_seq = []\n",
    "  y_seq = []\n",
    "  for i in range(len(x) - sequence_length):\n",
    "    x_seq.append(x[ i : i + sequence_length])\n",
    "    y_seq.append(y[i + sequence_length])\n",
    "    \n",
    "  #gpu용 텐서로 변환 \n",
    "  return torch.FloatTensor(x_seq).to(device), torch.FloatTensor(y_seq).to(device).view(-1,1)"
   ]
  },
  {
   "cell_type": "code",
   "execution_count": 5,
   "id": "ddd24a1b",
   "metadata": {},
   "outputs": [
    {
     "name": "stderr",
     "output_type": "stream",
     "text": [
      "C:\\Users\\ryugn123\\AppData\\Local\\Temp\\ipykernel_4060\\241166647.py:14: UserWarning: Creating a tensor from a list of numpy.ndarrays is extremely slow. Please consider converting the list to a single numpy.ndarray with numpy.array() before converting to a tensor. (Triggered internally at C:\\cb\\pytorch_1000000000000\\work\\torch\\csrc\\utils\\tensor_new.cpp:233.)\n",
      "  return torch.FloatTensor(x_seq).to(device), torch.FloatTensor(y_seq).to(device).view(-1,1)\n"
     ]
    },
    {
     "name": "stdout",
     "output_type": "stream",
     "text": [
      "torch.Size([163, 5, 4]) torch.Size([163, 1])\n",
      "torch.Size([0, 5, 4]) torch.Size([0, 1])\n",
      "tensor([[[0.9673, 0.9709, 0.9780, 0.9251],\n",
      "         [0.9673, 0.9709, 0.9780, 0.9251],\n",
      "         [0.9655, 0.9692, 0.9599, 0.9318],\n",
      "         [0.9601, 0.9571, 0.9615, 0.8074],\n",
      "         [0.9596, 0.9565, 0.9446, 0.8550]],\n",
      "\n",
      "        [[0.9673, 0.9709, 0.9780, 0.9251],\n",
      "         [0.9655, 0.9692, 0.9599, 0.9318],\n",
      "         [0.9601, 0.9571, 0.9615, 0.8074],\n",
      "         [0.9596, 0.9565, 0.9446, 0.8550],\n",
      "         [0.9603, 0.9574, 0.9617, 0.8526]],\n",
      "\n",
      "        [[0.9655, 0.9692, 0.9599, 0.9318],\n",
      "         [0.9601, 0.9571, 0.9615, 0.8074],\n",
      "         [0.9596, 0.9565, 0.9446, 0.8550],\n",
      "         [0.9603, 0.9574, 0.9617, 0.8526],\n",
      "         [0.9615, 0.9652, 0.9714, 0.8589]],\n",
      "\n",
      "        ...,\n",
      "\n",
      "        [[0.0261, 0.0257, 0.0118, 0.0347],\n",
      "         [0.0260, 0.0271, 0.0359, 0.0336],\n",
      "         [0.0255, 0.0267, 0.0253, 0.1075],\n",
      "         [0.0173, 0.0200, 0.0159, 0.0343],\n",
      "         [0.0152, 0.0149, 0.0323, 0.0309]],\n",
      "\n",
      "        [[0.0260, 0.0271, 0.0359, 0.0336],\n",
      "         [0.0255, 0.0267, 0.0253, 0.1075],\n",
      "         [0.0173, 0.0200, 0.0159, 0.0343],\n",
      "         [0.0152, 0.0149, 0.0323, 0.0309],\n",
      "         [0.0082, 0.0095, 0.0210, 0.0346]],\n",
      "\n",
      "        [[0.0255, 0.0267, 0.0253, 0.1075],\n",
      "         [0.0173, 0.0200, 0.0159, 0.0343],\n",
      "         [0.0152, 0.0149, 0.0323, 0.0309],\n",
      "         [0.0082, 0.0095, 0.0210, 0.0346],\n",
      "         [0.0024, 0.0037, 0.0027, 0.0315]]], device='cuda:0')\n"
     ]
    }
   ],
   "source": [
    "split = 163\n",
    "sequence_length=5\n",
    "x_seq, y_seq = seq_data(x, y, sequence_length)\n",
    " \n",
    "#순서대로 split 개수만큼 학습, 나머지는 평가 \n",
    "x_train_seq = x_seq[:split]\n",
    "y_train_seq = y_seq[:split]\n",
    " \n",
    "x_test_seq = x_seq[split:]\n",
    "y_test_seq = y_seq[split:]\n",
    " \n",
    "print(x_train_seq.shape, y_train_seq.size())\n",
    "print(x_test_seq.size(), y_test_seq.size())\n",
    "\n",
    "print(x_seq)"
   ]
  },
  {
   "cell_type": "code",
   "execution_count": 6,
   "id": "9cda2df0",
   "metadata": {},
   "outputs": [],
   "source": [
    "train = torch.utils.data.TensorDataset(x_train_seq, y_train_seq)\n",
    "test = torch.utils.data.TensorDataset(x_test_seq, y_test_seq)\n",
    " \n",
    "batch_size = 20\n",
    "train_loader = torch.utils.data.DataLoader(dataset=train, batch_size = batch_size, shuffle=False)\n",
    "test_loader = torch.utils.data.DataLoader(dataset=test, batch_size = batch_size)"
   ]
  },
  {
   "cell_type": "code",
   "execution_count": 7,
   "id": "ccad052f",
   "metadata": {},
   "outputs": [],
   "source": [
    "#기본 하이퍼 파라미터 설정 \n",
    "input_size = x_seq.size(2) \n",
    "num_layers = 1\n",
    "hidden_size = 100\n",
    "\n",
    "class LSTM(nn.Module):\n",
    "  def __init__(self, input_size, hidden_size, sequence_length, num_layers, device):\n",
    "    super(LSTM, self).__init__()\n",
    "    self.device = device \n",
    "    self.hidden_size = hidden_size\n",
    "    self.num_layers = num_layers\n",
    "    self.lstm = nn.LSTM(input_size, hidden_size, num_layers, batch_first = True)\n",
    "    self.fc = nn.Linear(hidden_size*sequence_length ,1)\n",
    " \n",
    "  def forward(self, x):\n",
    "    h0 = torch.zeros(self.num_layers, x.size()[0], self.hidden_size).to(self.device)\n",
    "    c0 = torch.zeros(self.num_layers, x.size()[0], self.hidden_size).to(self.device) \n",
    "    out, (hn,cn)= self.lstm(x,(h0,c0))\n",
    "    out = out.reshape(out.shape[0], -1)\n",
    "    out = self.fc(out)\n",
    "    return out"
   ]
  },
  {
   "cell_type": "code",
   "execution_count": 8,
   "id": "689ea0c9",
   "metadata": {
    "scrolled": false
   },
   "outputs": [
    {
     "name": "stdout",
     "output_type": "stream",
     "text": [
      "[epoch : 0] loss: 6005.2072\n",
      "[epoch : 100] loss: 6.0067\n",
      "[epoch : 200] loss: 4.0440\n",
      "[epoch : 300] loss: 1.8317\n",
      "[epoch : 400] loss: 1.2341\n"
     ]
    }
   ],
   "source": [
    "model = LSTM(input_size = input_size,\n",
    "             hidden_size=hidden_size,\n",
    "             sequence_length=sequence_length,\n",
    "             num_layers = num_layers,\n",
    "             device=device).to(device)\n",
    "\n",
    "criterion = nn.MSELoss()\n",
    "num_epochs = 500\n",
    "optimizer = optim.Adam(model.parameters(), lr=1e-3)\n",
    "\n",
    "loss_graph = []\n",
    "n = len(train_loader)\n",
    " \n",
    "for epoch in range(num_epochs):\n",
    "  running_loss = 0\n",
    " \n",
    "  for data in train_loader:\n",
    "    seq, target = data #배치 데이터 \n",
    "    out = model(seq) #출력값 계산 \n",
    "    loss = criterion(out, target) #손실함수 계산 \n",
    " \n",
    "    optimizer.zero_grad()\n",
    "    loss.backward()\n",
    "    optimizer.step() #최적화\n",
    "    running_loss += loss.item()\n",
    " \n",
    "  loss_graph.append(running_loss/n)\n",
    "  if epoch % 100==0:\n",
    "      print('[epoch : %d] loss: %.4f' %(epoch, running_loss/n))"
   ]
  },
  {
   "cell_type": "code",
   "execution_count": 9,
   "id": "1f85df24",
   "metadata": {},
   "outputs": [],
   "source": [
    "concatdata = torch.utils.data.ConcatDataset([train, test])\n",
    "data_loader = torch.utils.data.DataLoader(dataset=concatdata, batch_size=batch_size, shuffle=False)\n",
    " \n",
    "with torch.no_grad():\n",
    "    pred = []\n",
    "    model.eval()\n",
    "    for data in data_loader:\n",
    "        seq, target = data\n",
    "        out = model(seq)\n",
    "        pred += out.cpu().tolist()"
   ]
  },
  {
   "cell_type": "code",
   "execution_count": 10,
   "id": "4dfd1730",
   "metadata": {},
   "outputs": [
    {
     "data": {
      "image/png": "[encoded data removed]",
      "text/plain": [
       "<Figure size 800x300 with 1 Axes>"
      ]
     },
     "metadata": {},
     "output_type": "display_data"
    },
    {
     "name": "stdout",
     "output_type": "stream",
     "text": [
      "MAE :  0.8358\n",
      "RMSE : 1.0916\n"
     ]
    }
   ],
   "source": [
    "plt.figure(figsize=(8,3))\n",
    "\n",
    "plt.plot(df['SOH'][sequence_length:].values,linewidth=0.8, c='red')\n",
    "plt.plot(pred,linewidth=0.8, c='black')\n",
    "\n",
    "plt.grid(linestyle=':')\n",
    "\n",
    "plt.title('B0005')\n",
    "plt.xlabel('Cycle')\n",
    "plt.ylabel('SOH(%)')\n",
    "\n",
    "plt.legend(['True','predicted'])\n",
    "plt.show()\n",
    "\n",
    "from sklearn.metrics import mean_squared_error, mean_absolute_error, r2_score\n",
    "\n",
    "RMSE = mean_squared_error(pred, df['SOH'][sequence_length:].values, squared=False)\n",
    "MAE = mean_absolute_error(pred, df['SOH'][sequence_length:].values)\n",
    "\n",
    "print('MAE : {: .4f}'.format(MAE) )\n",
    "print('RMSE : {:.4f}'.format(RMSE) )"
   ]
  },
  {
   "cell_type": "code",
   "execution_count": 11,
   "id": "2d2b288d",
   "metadata": {},
   "outputs": [],
   "source": [
    "torch.save(model, \"LSTM().pt\")"
   ]
  },
  {
   "cell_type": "code",
   "execution_count": null,
   "id": "cb7ba2c6",
   "metadata": {},
   "outputs": [],
   "source": []
  }
 ],
 "metadata": {
  "kernelspec": {
   "display_name": "LAB",
   "language": "python",
   "name": "lab"
  },
  "language_info": {
   "codemirror_mode": {
    "name": "ipython",
    "version": 3
   },
   "file_extension": ".py",
   "mimetype": "text/x-python",
   "name": "python",
   "nbconvert_exporter": "python",
   "pygments_lexer": "ipython3",
   "version": "3.9.0"
  }
 },
 "nbformat": 4,
 "nbformat_minor": 5
}
