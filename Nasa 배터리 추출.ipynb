{
 "cells": [
  {
   "cell_type": "code",
   "execution_count": 4,
   "id": "ff05a128",
   "metadata": {},
   "outputs": [],
   "source": [
    "import os\n",
    "import time\n",
    "import csv\n",
    "import math\n",
    "import datetime\n",
    "\n",
    "import numpy as np\n",
    "import pandas as pd\n",
    "import matplotlib.pyplot as plt\n",
    "from scipy.io import loadmat\n",
    "\n",
    "import torch\n",
    "import torch.nn as nn\n",
    "from torch.utils.data import TensorDataset, DataLoader\n",
    "from torch.autograd import Variable\n",
    "from tqdm import tqdm_notebook\n",
    "from sklearn.preprocessing import StandardScaler, MinMaxScaler\n",
    "from sklearn.model_selection import train_test_split  "
   ]
  },
  {
   "cell_type": "code",
   "execution_count": 5,
   "id": "ad0ba8d9",
   "metadata": {
    "scrolled": false
   },
   "outputs": [
    {
     "name": "stdout",
     "output_type": "stream",
     "text": [
      "Total data in dataset:  616\n",
      "[1, 24, datetime.datetime(2008, 4, 2, 15, 25, 41), 1.8564874208181574, 4.191491807505295, -0.004901589207462691, 24.330033885570543, -0.0006, 0.0, 0.0]\n"
     ]
    }
   ],
   "source": [
    "#방전\n",
    "\n",
    "def load_data(battery):\n",
    "  mat = loadmat('C:/Users/Desktop/Nasa Battery DataSet/BatteryAgingARC_5-18/'+ battery + '.mat')\n",
    "  print('Total data in dataset: ', len(mat[battery][0, 0]['cycle'][0]))\n",
    "  counter = 0\n",
    "  dataset = []\n",
    "  capacity_data = []\n",
    "\n",
    "  for i in range(len(mat[battery][0, 0]['cycle'][0])):\n",
    "    row = mat[battery][0, 0]['cycle'][0, i]\n",
    "    if row['type'][0] == 'discharge':\n",
    "      ambient_temperature = row['ambient_temperature'][0][0]\n",
    "      date_time = datetime.datetime(int(row['time'][0][0]),\n",
    "                               int(row['time'][0][1]),\n",
    "                               int(row['time'][0][2]),\n",
    "                               int(row['time'][0][3]),\n",
    "                               int(row['time'][0][4])) + datetime.timedelta(seconds=int(row['time'][0][5]))\n",
    "      data = row['data']\n",
    "      capacity = data[0][0]['Capacity'][0][0]\n",
    "        \n",
    "      for j in range(len(data[0][0]['Voltage_measured'][0])):\n",
    "        voltage_measured = data[0][0]['Voltage_measured'][0][j]\n",
    "        current_measured = data[0][0]['Current_measured'][0][j]\n",
    "        temperature_measured = data[0][0]['Temperature_measured'][0][j]\n",
    "        current_load = data[0][0]['Current_load'][0][j]\n",
    "        voltage_load = data[0][0]['Voltage_load'][0][j]\n",
    "        time = data[0][0]['Time'][0][j]\n",
    "        dataset.append([counter + 1, ambient_temperature, date_time, capacity,\n",
    "                        voltage_measured, current_measured,\n",
    "                        temperature_measured, current_load,\n",
    "                        voltage_load, time])\n",
    "        \n",
    "      capacity_data.append([counter + 1, ambient_temperature, date_time, capacity])\n",
    "      counter = counter + 1\n",
    "        \n",
    "  print(dataset[0])\n",
    "\n",
    "  return [pd.DataFrame(data=dataset,\n",
    "                       columns=['cycle', 'ambient_temperature', 'datetime',\n",
    "                                'capacity', 'voltage_measured',\n",
    "                                'current_measured', 'temperature_measured',\n",
    "                                'current_load', 'voltage_load', 'time']),\n",
    "          pd.DataFrame(data=capacity_data,\n",
    "                       columns=['cycle', 'ambient_temperature', 'datetime','capacity'])]\n",
    "\n",
    "\n",
    "dataset, capacity = load_data('B0005')\n",
    "\n",
    "pd.set_option('display.max_columns', 10)\n",
    "dataset.tail(5)\n",
    "\n",
    "dataset.to_csv(\"C:/Users/ryugn123/Desktop/B0005_discharge.csv\")"
   ]
  },
  {
   "cell_type": "code",
   "execution_count": 6,
   "id": "b2f22baa",
   "metadata": {
    "scrolled": true
   },
   "outputs": [
    {
     "name": "stdout",
     "output_type": "stream",
     "text": [
      "Total data in dataset:  616\n",
      "[1, datetime.datetime(2008, 4, 2, 13, 8, 17), 3.873017221300996, -0.001200660698297908, 24.65535783391511, 0.0, 0.003, 0.0]\n"
     ]
    }
   ],
   "source": [
    "#충전\n",
    "\n",
    "def load_data(battery):\n",
    "  mat = loadmat('C:/Users/Desktop/Nasa Battery DataSet/BatteryAgingARC_5-18/' + battery + '.mat')\n",
    "  print('Total data in dataset: ', len(mat[battery][0, 0]['cycle'][0]))\n",
    "  dataset = []\n",
    "  counter = 0\n",
    "\n",
    "  for i in range(len(mat[battery][0, 0]['cycle'][0])):\n",
    "    row = mat[battery][0, 0]['cycle'][0, i]\n",
    "    if row['type'][0] == 'charge':\n",
    "      \n",
    "      date_time = datetime.datetime(int(row['time'][0][0]),\n",
    "                               int(row['time'][0][1]),\n",
    "                               int(row['time'][0][2]),\n",
    "                               int(row['time'][0][3]),\n",
    "                               int(row['time'][0][4])) + datetime.timedelta(seconds=int(row['time'][0][5]))\n",
    "      data = row['data']\n",
    "      counter = counter + 1\n",
    "        \n",
    "      for j in range(len(data[0][0]['Voltage_measured'][0])):\n",
    "        voltage_measured = data[0][0]['Voltage_measured'][0][j]\n",
    "        current_measured = data[0][0]['Current_measured'][0][j]\n",
    "        temperature_measured = data[0][0]['Temperature_measured'][0][j]\n",
    "        current_charge = data[0][0]['Current_charge'][0][j]\n",
    "        voltage_charge = data[0][0]['Voltage_charge'][0][j]\n",
    "        time = data[0][0]['Time'][0][j]\n",
    "        dataset.append([counter, date_time,\n",
    "                        voltage_measured, current_measured,\n",
    "                        temperature_measured, current_charge,\n",
    "                        voltage_charge, time])\n",
    "        \n",
    "        \n",
    "  print(dataset[0])\n",
    "\n",
    "  set = pd.DataFrame(data=dataset,columns=['cycle','date_time','voltage_measured','current_measured', 'temperature_measured',\n",
    "                                               'current_charge', 'voltage_charge', 'time'])\n",
    "\n",
    "  return set\n",
    "\n",
    "\n",
    "dataset = load_data('B0005')\n",
    "pd.set_option('display.max_columns', 10)\n",
    "dataset.tail(5)\n",
    "\n",
    "dataset.to_csv(\"C:/Users/ryugn123/Desktop/B0005_charge.csv\")"
   ]
  }
 ],
 "metadata": {
  "kernelspec": {
   "display_name": "LAB",
   "language": "python",
   "name": "lab"
  },
  "language_info": {
   "codemirror_mode": {
    "name": "ipython",
    "version": 3
   },
   "file_extension": ".py",
   "mimetype": "text/x-python",
   "name": "python",
   "nbconvert_exporter": "python",
   "pygments_lexer": "ipython3",
   "version": "3.9.0"
  }
 },
 "nbformat": 4,
 "nbformat_minor": 5
}
